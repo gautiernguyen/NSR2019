{
 "cells": [
  {
   "cell_type": "markdown",
   "metadata": {},
   "source": [
    "# Hands on with Machine Learning: Application to space physics\n",
    "\n",
    "_Gautier Nguyen_"
   ]
  },
  {
   "cell_type": "markdown",
   "metadata": {},
   "source": [
    "## Introduction"
   ]
  },
  {
   "cell_type": "markdown",
   "metadata": {},
   "source": [
    "You've seen this week, the supersonic solar wind is slowed down on its arrival in the Earth vicinity separating the near-Earth environment into three distinct regions: the magnetosphere, a hot and tenuous plasma at rest, the magnetosheath, a denser, faster and colder plasma, and the solar wind itself. Each of these regions being separated by two boundaries: the bow shock and the magnetopause. The study of these boundaries is the very first step of the study of the coupling that exist between Earth and the solar wind.\n",
    "\n",
    "<div style=\"text-align: center;\">\n",
    "<img src=\"schema_context.png\" width=\"50%\">\n",
    "</div>\n",
    "\n",
    "\n",
    "\n",
    "From an observational point of view, these boundaries can be studied from a statistical point of view with the in-situ data measured by spacecrafts that come pass them. Nevertheless, this identification can be time consuming and time consuming because of the variability from the criteria used from an observer to another and the variability of the data depending on the orbit type of the spacecraft.\n",
    "\n",
    "\n",
    "In this Notebook, we will elaborate an automatic detection method of the three near earth regions and use it to elaborate our own Magnetopause crossing catalog (that could eventually be adapted to the bow shock).\n",
    "\n",
    "We will then use these catalogs to build a data-driven magnetopause model from in-situ data.\n"
   ]
  },
  {
   "cell_type": "markdown",
   "metadata": {},
   "source": [
    "## Get the data\n",
    "\n",
    "For the first part of this session, we will elaborate a model that classifies in-situ data into one of the three surrounding near-earth region: Magnetosphere (MSP), Magnetosheath (MSH) and solar wind (SW). For this, we will use the data provided by the mission THEMIS. This mission consists of five micro satellites (A, B, C, D and E) that all have elliptical near-equatorial orbit with various apogees as shown below:\n",
    "\n",
    "<div style=\"text-align: center;\">\n",
    "<img src=\"stage-5_2010_thumb.jpg\" width=\"20%\">\n",
    "</div>\n",
    "Here, we will elaborate our method with the data provided by THEMIS B, the spacecraft with the largest apogee\n",
    "and apply it to the data provided by THEMIS C, the spacecraft with the second largest apogee\n"
   ]
  },
  {
   "cell_type": "code",
   "execution_count": null,
   "metadata": {
    "ExecuteTime": {
     "end_time": "2019-08-26T10:32:25.362982Z",
     "start_time": "2019-08-26T10:32:24.816406Z"
    },
    "code_folding": []
   },
   "outputs": [],
   "source": [
    "#import cells\n",
    "import numpy as np\n",
    "import pandas as pd\n",
    "\n",
    "import matplotlib.pyplot as plt\n",
    "import matplotlib.colors as colors\n",
    "import datetime\n",
    "from matplotlib.cm import get_cmap\n",
    "import matplotlib.colorbar as colorbar\n",
    "from matplotlib.colors import LogNorm\n",
    "import matplotlib.dates as mdates\n",
    "import seaborn as sns\n",
    "\n",
    "\n",
    "import event as evt\n",
    "import models\n",
    "\n",
    "from scipy.signal import medfilt\n",
    "%matplotlib inline"
   ]
  },
  {
   "cell_type": "code",
   "execution_count": null,
   "metadata": {
    "ExecuteTime": {
     "end_time": "2019-08-26T10:32:25.749516Z",
     "start_time": "2019-08-26T10:32:25.729925Z"
    },
    "code_folding": [
     0
    ]
   },
   "outputs": [],
   "source": [
    "def plotData(event, data, spectro=None, delta = datetime.timedelta(hours=3), pred=None, color='k', theo_pred=None):\n",
    "    # for a given event (a specific object defined with its beginning and ending date), plot the associated data\n",
    "    \n",
    "    start = event.begin-delta\n",
    "    end = event.end+delta\n",
    "    \n",
    "    n_plots = 3\n",
    "    if pred is not None:\n",
    "        n_plots +=1\n",
    "    if spectro is not None:\n",
    "        n_plots +=1\n",
    "    \n",
    "    fig = plt.figure(figsize=(10,15))\n",
    "\n",
    "    ax1 = plt.subplot2grid((n_plots,9), (0,0), colspan=9)\n",
    "    ax1.plot(data[start:end]['Np'], color='black')\n",
    "    ax1.set_yscale('log')\n",
    "    ax1.set_ylabel('$N_{p} (cm^{-3})$', fontsize=15)\n",
    "    ax1.set_ylim((0.1, 70))\n",
    "    \n",
    "\n",
    "    ax2 = plt.subplot2grid((n_plots,9), (1,0), colspan=9, sharex=ax1)\n",
    "    ax2.plot(data[start:end]['Bx'], color='green')\n",
    "    ax2.plot(data[start:end]['By'], color='blue')\n",
    "    ax2.plot(data[start:end]['Bz'], color='red')\n",
    "    ax2.set_ylim(-60, 60)\n",
    "    ax2.set_ylabel('B (nT)', fontsize=15)\n",
    "    ax2.legend(['Bx', 'By', 'Bz '], fontsize=12,loc='center left', bbox_to_anchor=(1, 0.5))\n",
    "\n",
    "\n",
    "    ax3 = plt.subplot2grid((n_plots,9), (2,0), colspan=9, sharex=ax1)\n",
    "    ax3.plot(data[start:end]['Vx'], color='green')\n",
    "    ax3.plot(data[start:end]['Vy'], color='blue')\n",
    "    ax3.plot(data[start:end]['Vz'], color='red')\n",
    "    ax3.set_ylim(-500, 300)\n",
    "    ax3.set_ylabel('V(km/s)', fontsize=15)\n",
    "    ax3.legend(['Vx', 'Vy', 'Vz '], fontsize=12,loc='center left', bbox_to_anchor=(1, 0.5))\n",
    "    \n",
    "    axarr = [ax1, ax2, ax3]\n",
    "    \n",
    "    \n",
    "    if spectro is not None:\n",
    "        ax4 = plt.subplot2grid((n_plots,9), (3,0), colspan=9, sharex=ax1)\n",
    "        seum = spectro[start:end]\n",
    "        t_data = seum.index\n",
    "        data_tmp = np.flip(seum.values.T, 0)\n",
    "        data_tmp[data_tmp < 0] = 0\n",
    "        xx, yy = np.meshgrid(t_data, np.arange(0, len(seum.columns)))\n",
    "        im = ax4.pcolormesh(xx, yy, data_tmp, norm=colors.LogNorm(vmin=1, vmax=1e9), cmap='nipy_spectral')\n",
    "        ax4.set_ylabel('Ions energy (eV)', fontsize=15)\n",
    "        ax4.set_yticks([1, 10, 18, 26])\n",
    "        ax4.set_yticklabels([10, 100, 1000, 10000], fontsize=12)\n",
    "        cbaxes = fig.add_axes([0.92, 0.13, 0.03, 0.15]) \n",
    "        cbar = plt.colorbar(im, cax = cbaxes)\n",
    "        cbar.ax.tick_params(labelsize=12) \n",
    "        axarr.append(ax4)\n",
    "    if pred is not None:\n",
    "        ax8 = plt.subplot2grid((n_plots,9), (n_plots-1,0), colspan=9, sharex=ax1)\n",
    "        if theo_pred is not None:\n",
    "            ax8.plot(theo_pred+0.2, color='b', alpha=0.5)\n",
    "        ax8.plot(pred, color=color)\n",
    "        ax8.set_ylim(-0.01, 2.4)\n",
    "        axarr.append(ax8)\n",
    "        ax8.legend(['Label', 'Prediction'], fontsize=12)\n",
    "    \n",
    "    for ax in axarr:\n",
    "        ax.yaxis.set_tick_params(labelsize=12)\n",
    "        ax.xaxis.set_tick_params(labelsize=12)\n",
    "    \n",
    "        ax.axvline(event.begin, ls='dashed', color='k')\n",
    "        ax.axvline(event.end, ls='dashed', color='k')\n",
    "        \n",
    "        ax.xaxis.set_major_locator(mdates.HourLocator(interval=3))\n",
    "        ax.xaxis.set_major_formatter(mdates.DateFormatter('%H:'+'%M'))\n",
    "    return fig, axarr"
   ]
  },
  {
   "cell_type": "markdown",
   "metadata": {},
   "source": [
    "# Classification of the three near-earth regions: THEMIS data"
   ]
  },
  {
   "cell_type": "markdown",
   "metadata": {},
   "source": [
    "## Getting familiar with THEMIS data"
   ]
  },
  {
   "cell_type": "markdown",
   "metadata": {
    "ExecuteTime": {
     "end_time": "2019-08-13T08:08:20.442847Z",
     "start_time": "2019-08-13T08:08:20.435777Z"
    }
   },
   "source": [
    "At first, let's have a look at how the three regions look like over THEMIS B data. The data used in this part can be found  [here](https://drive.google.com/open?id=1meBpFRaXWzDYWulMXwiCRLJpkA76cqVm). Download the data file and extract it in the NSR2019 folder."
   ]
  },
  {
   "cell_type": "markdown",
   "metadata": {},
   "source": [
    "__Plot THEMIS B data for several time intervals, what can you firstly conclude about the differences between the three regions ?__"
   ]
  },
  {
   "cell_type": "code",
   "execution_count": null,
   "metadata": {
    "ExecuteTime": {
     "end_time": "2019-08-26T10:32:27.474869Z",
     "start_time": "2019-08-26T10:32:27.071294Z"
    },
    "code_folding": []
   },
   "outputs": [],
   "source": [
    "#load THEMIS B data\n",
    "data_themis_B = pd.read_pickle('data_themisB.pkl')\n",
    "spectro_themis_B = pd.read_pickle('spectro_themisB.pkl')\n",
    "\n",
    "\n",
    "y = pd.read_csv('themisB_label.csv', index_col=0, header=None, squeeze=True)\n",
    "y.index = pd.to_datetime(y.index)"
   ]
  },
  {
   "cell_type": "code",
   "execution_count": null,
   "metadata": {
    "ExecuteTime": {
     "end_time": "2019-08-26T10:32:28.962704Z",
     "start_time": "2019-08-26T10:32:27.728026Z"
    }
   },
   "outputs": [],
   "source": [
    "start = datetime.datetime(2008,5,12, 8)\n",
    "end =  datetime.datetime(2008,5,12, 20)\n",
    "event = evt.Event(start, end)\n",
    "\n",
    "\n",
    "plotData(event, data_themis_B, spectro=spectro_themis_B, delta=datetime.timedelta(hours=0))"
   ]
  },
  {
   "cell_type": "markdown",
   "metadata": {},
   "source": [
    "In the rest of the study, we have discarded part of the data that corresponds to the moments where the spacecraft is in the night side part of the magnetopause, close from the Earth Dipole or too far away in the solar wind. The remnant part of the data has been labelled depending on the corresonding near-earth region data through the variable _y_. \n",
    "\n",
    "0 corresponds to the MSP, 1 to the MSH and 2 to the SW.\n",
    "\n",
    "In the section 2.2 and 2.3, we will use the variable _X_ that corresponds to the part of the data that have been labelled."
   ]
  },
  {
   "cell_type": "code",
   "execution_count": null,
   "metadata": {
    "ExecuteTime": {
     "end_time": "2019-08-26T10:32:31.209956Z",
     "start_time": "2019-08-26T10:32:31.079939Z"
    }
   },
   "outputs": [],
   "source": [
    "X = data_themis_B[data_themis_B.index.isin(y.index)]"
   ]
  },
  {
   "cell_type": "markdown",
   "metadata": {
    "ExecuteTime": {
     "end_time": "2019-08-13T09:58:10.510268Z",
     "start_time": "2019-08-13T09:58:10.507603Z"
    }
   },
   "source": [
    "__From your first a priori from the data you observed, what would first mere classification would you suggest ?__"
   ]
  },
  {
   "cell_type": "markdown",
   "metadata": {},
   "source": [
    "## A simple first method"
   ]
  },
  {
   "cell_type": "markdown",
   "metadata": {},
   "source": [
    "From the differences you hve noticed between the three near-earth regions, you could have thought of a basic first classification method. In this section, we will implement this method and evaluate this performance.\n",
    "\n",
    "__Using _hist2d_, represent the 2d histogram of the two most useful features you have identified to differentiate the three regions__"
   ]
  },
  {
   "cell_type": "code",
   "execution_count": null,
   "metadata": {
    "ExecuteTime": {
     "end_time": "2019-08-26T10:32:33.881256Z",
     "start_time": "2019-08-26T10:32:33.113266Z"
    },
    "code_folding": [],
    "scrolled": false
   },
   "outputs": [],
   "source": [
    "# 2D histogram of two features of the dataset\n",
    "\n",
    "plt.figure(figsize=(15, 10))\n",
    "plt.hist2d(X['Np'], X['Vx'], cmap='jet',bins = [np.arange(0, 15, 0.1),np.arange(-600, 150, 1)], norm=LogNorm())\n",
    "plt.colorbar()\n",
    "\n",
    "\n",
    "plt.plot([0, 3], [-100, 150], color='r')\n",
    "plt.plot([0, 5], [-100, -600], color='r')"
   ]
  },
  {
   "cell_type": "markdown",
   "metadata": {},
   "source": [
    "__By setting thresholds on these two parameters classify the different regions for THEMIS B data__"
   ]
  },
  {
   "cell_type": "code",
   "execution_count": null,
   "metadata": {
    "ExecuteTime": {
     "end_time": "2019-08-26T10:32:34.979412Z",
     "start_time": "2019-08-26T10:32:34.963023Z"
    }
   },
   "outputs": [],
   "source": [
    "y_pred = pd.Series(index = y.index, data=1)\n",
    "\n",
    "y_pred[X['Vx']>250/3*X['Np']-100] = 0\n",
    "y_pred[X['Vx']<-100*X['Np']-100] = 2"
   ]
  },
  {
   "cell_type": "markdown",
   "metadata": {},
   "source": [
    "It is the necessary to evaluate the quality of our prediction to ensure the reliability of our model. For this, we will compare the prediction $y_{pred}$ to the true label $y$. This comparison can be summarized by two variables for each classes: \n",
    "- The Precision $\\frac{TP}{TP+FN}$ where $TP$ is the number of correctly predicted points of a given class (e.g MSH points predicted as MSH) and FN are points of a given class that have been mispredicted (e.g MSH pints labelled as MSP)\n",
    "\n",
    "- The Recall $\\frac{TP}{TP+FP}$ where $FP$ is the number of points from other classes that have been predicted as belonging to a given class (e.g SW points that have been predicted as MSH)\n",
    "\n",
    "\n",
    "__Using the functions $recall\\_score$ and $precision\\_score$ of $sklearn$, quantify the performance of this classification method, what can you conclude ?__"
   ]
  },
  {
   "cell_type": "code",
   "execution_count": null,
   "metadata": {
    "ExecuteTime": {
     "end_time": "2019-08-26T10:32:52.634863Z",
     "start_time": "2019-08-26T10:32:52.219106Z"
    }
   },
   "outputs": [],
   "source": [
    "from sklearn.metrics import precision_score, recall_score\n",
    "print(recall_score(y, y_pred, average=None))\n",
    "print(precision_score(y, y_pred, average=None))\n"
   ]
  },
  {
   "cell_type": "markdown",
   "metadata": {},
   "source": [
    "You have here completed the automatic identification attempt realized by _Jelinek et al. (2012)_"
   ]
  },
  {
   "cell_type": "markdown",
   "metadata": {},
   "source": [
    "## Smarter methods: Machine Learning"
   ]
  },
  {
   "cell_type": "markdown",
   "metadata": {},
   "source": [
    "You understood it, all the point about classification is about establishing accurate enough boundaries between the different classes (here the three near-earth regions) in order to have a recall and a precision as high as possible.\n",
    "This is the purpose of Machine-Learning algorithms.\n",
    "\n",
    "In this section, we will try several typical supervised machine learning algorithms to figure out which one would be the best to classify the three near earth regions.\n",
    "\n",
    "To figure this out, each model you will implement will be fit with 2/3 of the dataset that will constitute the __training set__ and will be evaluated on the remnant dataset that will constitute the __test set__. To ensure that the obtained performances does not depend on the split that will be made between training and test set, we will make this process for 3 different splits (realizing what we call __cross-validation__) and we will then provide an average precision and recall for each classes.\n",
    "\n",
    "Feel free to try the various existing algorithms and eventually fine tune them to increase your classification performances:\n",
    "- Logistic Regression\n",
    "- Decision Tree\n",
    "- Random Forest\n",
    "- Gradient Boosting\n",
    "- Support Vector Machine\n",
    "\n",
    "The complete description of each algorithm and the eventual parameters that can be used to fine tune the detection can be found [here](https://scikit-learn.org/).\n",
    "\n",
    "__Fit and evaluate different models on our THEMIS B labelled dataset using the function $\\textit{train_evaluate}$. Save your best model using, which algorithm performed as the best ?__"
   ]
  },
  {
   "cell_type": "code",
   "execution_count": null,
   "metadata": {
    "ExecuteTime": {
     "end_time": "2019-08-26T10:32:59.149576Z",
     "start_time": "2019-08-26T10:32:59.134944Z"
    },
    "code_folding": []
   },
   "outputs": [],
   "source": [
    "# This is the function you will use to train and evaluate your various models\n",
    "from sklearn.model_selection import train_test_split\n",
    "\n",
    "def train_evaluate(model, data, label):\n",
    "    recalls = []\n",
    "    precisions = []\n",
    "    for i in range(3):\n",
    "        print('Step ' + str(i), end='\\r')\n",
    "        X_train, X_test, y_train,  y_test = train_test_split(data, label)\n",
    "        algo = model\n",
    "        algo.fit(X_train, y_train)\n",
    "        y_pred = algo.predict(X_test)\n",
    "        recalls.append(recall_score(y_test, y_pred, average=None))\n",
    "        precisions.append(precision_score(y_test, y_pred, average=None))\n",
    "    print('Magnetosphere:')\n",
    "    print('recall = '+ str(round(np.mean([x[0] for x in recalls]), 3)) +' +- '+str(round(np.std([x[1] for x in recalls]), 3)))\n",
    "\n",
    "    print('precision = '+ str(round(np.mean([x[0] for x in precisions]), 3)) +' +- '+str(round(np.std([x[1] for x in precisions]), 3)))\n",
    "    print('Magnetosheath:')\n",
    "    print('recall = '+ str(round(np.mean([x[1] for x in recalls]), 3)) +' +- '+str(round(np.std([x[1] for x in recalls]), 3)))\n",
    "    print('precision = '+ str(round(np.mean([x[1] for x in precisions]), 3)) +' +- '+str(round(np.std([x[1] for x in precisions]), 3)))\n",
    "    \n",
    "    print('Solar Wind:')\n",
    "    print('recall = '+ str(round(np.mean([x[2] for x in recalls]), 3)) +' +- '+str(round(np.std([x[1] for x in recalls]), 3)))\n",
    "    print('precision = '+ str(round(np.mean([x[2] for x in precisions]), 3)) +' +- '+str(round(np.std([x[1] for x in precisions]), 3))) \n",
    "    \n",
    "    return recalls, precisions, model"
   ]
  },
  {
   "cell_type": "code",
   "execution_count": null,
   "metadata": {
    "ExecuteTime": {
     "end_time": "2019-08-26T10:33:00.141946Z",
     "start_time": "2019-08-26T10:33:00.117767Z"
    }
   },
   "outputs": [],
   "source": [
    "from sklearn.ensemble import GradientBoostingClassifier, RandomForestClassifier\n",
    "from sklearn.svm import SVC\n",
    "from sklearn.linear_model import LogisticRegression\n",
    "from sklearn.tree import DecisionTreeClassifier"
   ]
  },
  {
   "cell_type": "code",
   "execution_count": null,
   "metadata": {
    "ExecuteTime": {
     "end_time": "2019-08-26T10:33:11.955207Z",
     "start_time": "2019-08-26T10:33:00.442519Z"
    }
   },
   "outputs": [],
   "source": [
    "model = DecisionTreeClassifier()\n",
    "\n",
    "recalls, precisions, model = train_evaluate(model, X, y)"
   ]
  },
  {
   "cell_type": "markdown",
   "metadata": {},
   "source": [
    "You can eventually plot the prediction of your model on one of the intervals you have used to visualize your data"
   ]
  },
  {
   "cell_type": "code",
   "execution_count": null,
   "metadata": {
    "ExecuteTime": {
     "end_time": "2019-08-26T10:33:33.257762Z",
     "start_time": "2019-08-26T10:33:32.107851Z"
    }
   },
   "outputs": [],
   "source": [
    "start = datetime.datetime(2008,5,12, 8)\n",
    "end =  datetime.datetime(2008,5,12, 20)\n",
    "event = evt.Event(start, end)\n",
    "\n",
    "\n",
    "plotData(event, data_themis_B, spectro=spectro_themis_B, delta=datetime.timedelta(hours=0), pred = pd.Series(index=data_themis_B[event.begin:event.end].index, data = model.predict(data_themis_B[event.begin:event.end])))"
   ]
  },
  {
   "cell_type": "markdown",
   "metadata": {},
   "source": [
    "## Construction of a Magnetopause Crossing list"
   ]
  },
  {
   "cell_type": "markdown",
   "metadata": {
    "ExecuteTime": {
     "end_time": "2019-08-21T09:58:04.897541Z",
     "start_time": "2019-08-21T09:58:04.894326Z"
    }
   },
   "source": [
    "Now we have a decent classification model, we can use it to elaborate our own Magnetopause Crossings list, assuming our model works well, we will run it on the data provided by both THEMIS B and THEMIS C.\n",
    "For this,; we will define magnetopause crossing as 1hr intervals that contain as much points labelled as magnetosphere as points labelled as magnetosheath (Naturally, the same thing could be done with the bow shock).\n",
    "\n",
    "__Using your best model, elaborate MP crossing lists for both Themis B and Themis C__"
   ]
  },
  {
   "cell_type": "code",
   "execution_count": null,
   "metadata": {
    "ExecuteTime": {
     "end_time": "2019-08-26T10:33:36.854218Z",
     "start_time": "2019-08-26T10:33:36.745696Z"
    }
   },
   "outputs": [],
   "source": [
    "#Load the data of Themis C\n",
    "data_themis_C = pd.read_pickle('data_themisC.pkl')\n"
   ]
  },
  {
   "cell_type": "code",
   "execution_count": null,
   "metadata": {
    "ExecuteTime": {
     "end_time": "2019-08-26T10:33:52.602336Z",
     "start_time": "2019-08-26T10:33:52.592652Z"
    },
    "code_folding": []
   },
   "outputs": [],
   "source": [
    "def make_crossing(data, model):\n",
    "    crossings = []\n",
    "    pred = model.predict(data)   #predict\n",
    "    pred = pd.Series(index = data.index, data = medfilt(pred, 3))\n",
    "    \n",
    "    # Find the 1hr interval that contain as much MSH as MSP\n",
    "    is_crossing = pred[(pred.rolling(60, center=True).sum() == 30) & (pred.rolling(60, center=True, min_periods=1).min()==0) & (pred.rolling(60, center=True, min_periods=1).max()==1)].index\n",
    "    if len(is_crossing)>0:\n",
    "        crossings += [evt.Event(center-datetime.timedelta(minutes=30), center+datetime.timedelta(minutes=30)) for center in is_crossing]  \n",
    "    indices_to_keep= []\n",
    "    \n",
    "    # Separate overlapping crossings\n",
    "    for i, x in enumerate(crossings[1:]):\n",
    "        if evt.overlap(crossings[i], crossings[i-1])<datetime.timedelta(minutes=1):\n",
    "            indices_to_keep.append(i)\n",
    "    crossings = [crossings[i] for i in range(0, len(crossings)) if i in indices_to_keep]\n",
    "    \n",
    "    \n",
    "    # remove the orbit moments where the spacecraft is in the magnetotail and the moment the spacecraft is around the earth dipole\n",
    "    crossings = [x for x in crossings if (x.end<datetime.datetime(2007,12,15)) or (x.begin>datetime.datetime(2008,4,15))]\n",
    "    crossings = [x for x in crossings if (x.end<datetime.datetime(2008,12,15)) or (x.begin>datetime.datetime(2009,4,15))]\n",
    "    crossings = [x for x in crossings if data.Bx[x.begin:x.end].abs().max()<60]\n",
    "    \n",
    "    return crossings"
   ]
  },
  {
   "cell_type": "code",
   "execution_count": null,
   "metadata": {
    "ExecuteTime": {
     "end_time": "2019-08-26T10:33:53.837506Z",
     "start_time": "2019-08-26T10:33:53.269921Z"
    }
   },
   "outputs": [],
   "source": [
    "crossings_themisB = make_crossing(data_themis_B, model)"
   ]
  },
  {
   "cell_type": "code",
   "execution_count": null,
   "metadata": {
    "ExecuteTime": {
     "end_time": "2019-08-26T10:33:54.996177Z",
     "start_time": "2019-08-26T10:33:54.160221Z"
    }
   },
   "outputs": [],
   "source": [
    "crossings_themisC = make_crossing(data_themis_C, model)"
   ]
  },
  {
   "cell_type": "markdown",
   "metadata": {},
   "source": [
    "All of these crossings can be represented together in the (X-Y), (X-Z) and (Y-Z) planes, the following cell provides a 2D histogram of the position of the crossings you have built. Make sure you haveve a decent coverage of the magnetopause :)"
   ]
  },
  {
   "cell_type": "code",
   "execution_count": null,
   "metadata": {
    "ExecuteTime": {
     "end_time": "2019-08-26T10:34:36.201861Z",
     "start_time": "2019-08-26T10:34:36.173687Z"
    },
    "code_folding": [
     0
    ]
   },
   "outputs": [],
   "source": [
    "def plot_boundaries():\n",
    "    # Plot Standard BS and MP models projected in the three (X-Y), (X-Z) and (Y-Z) planes\n",
    "    fig, axarr = plt.subplots(nrows=1, ncols=3, figsize=(15, 5))\n",
    "\n",
    "    #phi = np.arange(0, np.pi+0.01, 0.01)\n",
    "    theta = np.arange(0, np.pi+0.01, 0.01)\n",
    "    phi = 0\n",
    "    #theta = np.pi/2\n",
    "    r = models.BS_Jerab05(phi, theta,1, 8 ,0.01)\n",
    "    x = r*np.cos(theta)\n",
    "    y = r*np.sin(theta)*np.cos(phi)\n",
    "    z = r*np.sin(theta)*np.sin(phi)\n",
    "    axarr[0].plot(x, y, color='k')\n",
    "\n",
    "    r, Q = models.MP_Lin2010(phi, theta,2, 0.01, 0, 0)\n",
    "    x = (r+Q)*np.cos(theta)\n",
    "    y = (r+Q)*np.sin(theta)*np.cos(phi)\n",
    "    z = (r+Q)*np.sin(theta)*np.sin(phi)\n",
    "    axarr[0].plot(x, y, color='k', ls='dashed')\n",
    "\n",
    "\n",
    "    theta = np.arange(0, np.pi+0.01, 0.01)\n",
    "    phi = np.pi\n",
    "    r = models.BS_Jerab05(phi, theta,1, 8 ,0.01)\n",
    "    x = r*np.cos(theta)\n",
    "    y = r*np.sin(theta)*np.cos(phi)\n",
    "    z = r*np.sin(theta)*np.sin(phi)\n",
    "    axarr[0].plot(x, y, color='k')\n",
    "\n",
    "    r, Q = models.MP_Lin2010(phi, theta,2, 0.01, 0, 0)\n",
    "    x = (r+Q)*np.cos(theta)\n",
    "    y = (r+Q)*np.sin(theta)*np.cos(phi)\n",
    "    z = (r+Q)*np.sin(theta)*np.sin(phi)\n",
    "    axarr[0].plot(x, y, color='k', ls='dashed')\n",
    "\n",
    "    #phi = np.arange(0, np.pi+0.01, 0.01)\n",
    "    theta = np.arange(0, np.pi+0.01, 0.01)\n",
    "    phi = np.pi/2\n",
    "    #theta = np.pi/2\n",
    "    r = models.BS_Jerab05(phi, theta,1, 8 ,0.01)\n",
    "    x = r*np.cos(theta)\n",
    "    y = r*np.sin(theta)*np.cos(phi)\n",
    "    z = r*np.sin(theta)*np.sin(phi)\n",
    "    axarr[1].plot(x, z, color='k')\n",
    "\n",
    "    r, Q = models.MP_Lin2010(phi, theta,2, 0.01, 0, 0)\n",
    "    x = (r+Q)*np.cos(theta)\n",
    "    y = (r+Q)*np.sin(theta)*np.cos(phi)\n",
    "    z = (r+Q)*np.sin(theta)*np.sin(phi)\n",
    "    axarr[1].plot(x, z, color='k', ls='dashed')\n",
    "    \n",
    "    \n",
    "    theta = np.arange(0, np.pi+0.01, 0.01)\n",
    "    phi = -np.pi/2\n",
    "    r = models.BS_Jerab05(phi, theta,1, 8 ,0.01)\n",
    "    x = r*np.cos(theta)\n",
    "    y = r*np.sin(theta)*np.cos(phi)\n",
    "    z = r*np.sin(theta)*np.sin(phi)\n",
    "    axarr[1].plot(x, z, color='k')\n",
    "\n",
    "    r, Q = models.MP_Lin2010(phi, theta,2, 0.01, 0, 0)\n",
    "    x = (r+Q)*np.cos(theta)\n",
    "    y = (r+Q)*np.sin(theta)*np.cos(phi)\n",
    "    z = (r+Q)*np.sin(theta)*np.sin(phi)\n",
    "    axarr[1].plot(x, z, color='k', ls='dashed')\n",
    "\n",
    "    phi = np.arange(0, np.pi+0.01, 0.01)\n",
    "    theta = -np.pi/2\n",
    "    r = models.BS_Jerab05(phi, theta,1, 8 ,0.01)\n",
    "    x = r*np.cos(theta)\n",
    "    y = r*np.sin(theta)*np.cos(phi)\n",
    "    z = r*np.sin(theta)*np.sin(phi)\n",
    "    axarr[2].plot(y, z, color='k')    \n",
    "\n",
    "    r, Q = models.MP_Lin2010(phi, theta,2, 0.01, 0, 0)\n",
    "    x = (r+Q)*np.cos(theta)\n",
    "    y = (r+Q)*np.sin(theta)*np.cos(phi)\n",
    "    z = (r+Q)*np.sin(theta)*np.sin(phi)\n",
    "    axarr[2].plot(y, z, color='k', ls='dashed')\n",
    "    \n",
    "    \n",
    "    phi = np.arange(0, np.pi+0.01, 0.01)\n",
    "    theta = np.pi/2\n",
    "    r = models.BS_Jerab05(phi, theta,1, 8 ,0.01)\n",
    "    x = r*np.cos(theta)\n",
    "    y = r*np.sin(theta)*np.cos(phi)\n",
    "    z = r*np.sin(theta)*np.sin(phi)\n",
    "    axarr[2].plot(y, z, color='k')   \n",
    "    \n",
    "    \n",
    "    \n",
    "    r, Q = models.MP_Lin2010(phi, theta,2, 0.01, 0, 0)\n",
    "    x = (r+Q)*np.cos(theta)\n",
    "    y = (r+Q)*np.sin(theta)*np.cos(phi)\n",
    "    z = (r+Q)*np.sin(theta)*np.sin(phi)\n",
    "    axarr[2].plot(y, z, color='k', ls='dashed')\n",
    "    \n",
    "    for ax in axarr:\n",
    "        ax.set_xlim(-40, 40)\n",
    "        ax.set_ylim(-40, 40)\n",
    "    axarr[0].set_xlabel('X (Re)')\n",
    "    axarr[0].set_ylabel('Y (Re)')\n",
    "    \n",
    "    axarr[1].set_xlabel('X (Re)')\n",
    "    axarr[1].set_ylabel('Z (Re)')\n",
    "    \n",
    "    axarr[2].set_xlabel('Y (Re)')\n",
    "    axarr[2].set_ylabel('Z (Re)')\n",
    "    return fig, axarr"
   ]
  },
  {
   "cell_type": "code",
   "execution_count": null,
   "metadata": {
    "ExecuteTime": {
     "end_time": "2019-08-26T10:33:59.100597Z",
     "start_time": "2019-08-26T10:33:58.742410Z"
    },
    "code_folding": []
   },
   "outputs": [],
   "source": [
    "#load the position of the Themis B and Themis C spacecrafts\n",
    "themisB_pos = pd.read_pickle('themisB_pos.pkl')\n",
    "themisC_pos = pd.read_pickle('themisC_pos.pkl')\n"
   ]
  },
  {
   "cell_type": "code",
   "execution_count": null,
   "metadata": {
    "ExecuteTime": {
     "end_time": "2019-08-26T10:34:01.302849Z",
     "start_time": "2019-08-26T10:33:59.827559Z"
    },
    "code_folding": [
     0
    ]
   },
   "outputs": [],
   "source": [
    "# plot the position of each crossings\n",
    "fig, axarr = plot_boundaries()\n",
    "\n",
    "posX = []\n",
    "posY = []\n",
    "posZ = []\n",
    "\n",
    "\n",
    "\n",
    "for x in crossings_themisB:\n",
    "    posX.append(themisB_pos['X'][x.begin:x.end].mean())\n",
    "    posY.append(themisB_pos['Y'][x.begin:x.end].mean())\n",
    "    posZ.append(themisB_pos['Z'][x.begin:x.end].mean())\n",
    "\n",
    "\n",
    "for x in crossings_themisC:\n",
    "    posX.append(themisC_pos['X'][x.begin:x.end].mean())\n",
    "    posY.append(themisC_pos['Y'][x.begin:x.end].mean())\n",
    "    posZ.append(themisC_pos['Z'][x.begin:x.end].mean())\n",
    "\n",
    "\n",
    "axarr[0].hist2d(posX, posY, bins=np.arange(-20, 20, 1), cmap='plasma', norm=LogNorm())\n",
    "axarr[1].hist2d(posX, posZ, bins=np.arange(-20, 20, 1), cmap='plasma', norm=LogNorm(), cmin=1)\n",
    "seum = axarr[2].hist2d(posY, posZ, bins=np.arange(-30, 30, 1), cmap='plasma', norm=LogNorm())\n",
    "\n",
    "plt.colorbar(seum[3], label='number of crossings')"
   ]
  },
  {
   "cell_type": "markdown",
   "metadata": {},
   "source": [
    "# Construction of a data-driven magnetopause model"
   ]
  },
  {
   "cell_type": "markdown",
   "metadata": {
    "ExecuteTime": {
     "end_time": "2019-08-22T08:46:30.988112Z",
     "start_time": "2019-08-22T08:46:30.985935Z"
    }
   },
   "source": [
    "Once we have consequent magnetopause crossing list, one could think of linking them to the solar wind parameters at the moment the crossing happened. Once again, we could here use machine learning for regression purpose to try to fit the position of the magnetopause as a function of these upstream conditions. \n",
    "Nevertheless, the crossings we have been detecting for THEMIS only cover the near-equator part of the magnetopause and consequently do not provide a coverage significant enough for our study.\n",
    "\n",
    "To cope with it, we provide you a complete dataset of magnetopause crossings, collected from the 5 THEMIS spacecrafts, Cluster 1 and 3 and the Double star TC1 spacecraft, and their associated SW conditions.\n",
    "\n",
    "Here, we will try several typical supervised machine learning algorithms to figure out how each of them deals with regression problems in the specific case of the magnetopause position. \n",
    "\n",
    "Feel free to try the various existing algorithms and eventually fine tune them to increase the quality of your fit performances:\n",
    "\n",
    "- Decision Tree\n",
    "- Random Forest\n",
    "- Gradient Boosting\n",
    "- Support Vector Machine\n",
    "\n",
    "The complete description of each algorithm and the eventual parameters that can be used to fine tune the detection can be found here."
   ]
  },
  {
   "cell_type": "code",
   "execution_count": null,
   "metadata": {
    "ExecuteTime": {
     "end_time": "2019-08-26T10:34:39.326734Z",
     "start_time": "2019-08-26T10:34:39.324421Z"
    }
   },
   "outputs": [],
   "source": [
    "from sklearn.ensemble import GradientBoostingRegressor, RandomForestRegressor\n",
    "from sklearn.svm import SVR\n",
    "from sklearn.tree import DecisionTreeRegressor"
   ]
  },
  {
   "cell_type": "code",
   "execution_count": null,
   "metadata": {
    "ExecuteTime": {
     "end_time": "2019-08-26T10:34:39.770535Z",
     "start_time": "2019-08-26T10:34:39.751619Z"
    },
    "code_folding": [
     0
    ]
   },
   "outputs": [],
   "source": [
    "def plot_MP_model():\n",
    "    # Plot Standard BS and MP models projected in the three (X-Y), (X-Z) and (Y-Z) planes\n",
    "    fig, axarr = plt.subplots(nrows=1, ncols=3, figsize=(15, 5))\n",
    "\n",
    "    theta = np.arange(0,np.pi+0.01, 0.01)\n",
    "    phi = 0\n",
    "\n",
    "    r, Q = models.MP_Lin2010(phi, theta,2, 0.01, 0, 0)\n",
    "    x = (r+Q)*np.cos(theta)\n",
    "    y = (r+Q)*np.sin(theta)*np.cos(phi)\n",
    "    z = (r+Q)*np.sin(theta)*np.sin(phi)\n",
    "    axarr[0].plot(x, y, color='k', ls='dashed')\n",
    "\n",
    "\n",
    "    theta = np.arange(0, np.pi+0.01, 0.01)\n",
    "    phi = np.pi\n",
    "\n",
    "    r, Q = models.MP_Lin2010(phi, theta,2, 0.01, 0, 0)\n",
    "    x = (r+Q)*np.cos(theta)\n",
    "    y = (r+Q)*np.sin(theta)*np.cos(phi)\n",
    "    z = (r+Q)*np.sin(theta)*np.sin(phi)\n",
    "    axarr[0].plot(x, y, color='k', ls='dashed')\n",
    "\n",
    "    theta = np.arange(0, np.pi+0.01, 0.01)\n",
    "    phi = np.pi/2\n",
    "\n",
    "\n",
    "    r, Q = models.MP_Lin2010(phi, theta,2, 0.01, 0, 0)\n",
    "    x = (r+Q)*np.cos(theta)\n",
    "    y = (r+Q)*np.sin(theta)*np.cos(phi)\n",
    "    z = (r+Q)*np.sin(theta)*np.sin(phi)\n",
    "    axarr[1].plot(x, z, color='k', ls='dashed')\n",
    "    \n",
    "    \n",
    "    theta = np.arange(0, np.pi+0.01, 0.01)\n",
    "    phi = -np.pi/2\n",
    "\n",
    "    r, Q = models.MP_Lin2010(phi, theta,2, 0.01, 0, 0)\n",
    "    x = (r+Q)*np.cos(theta)\n",
    "    y = (r+Q)*np.sin(theta)*np.cos(phi)\n",
    "    z = (r+Q)*np.sin(theta)*np.sin(phi)\n",
    "    axarr[1].plot(x, z, color='k', ls='dashed')\n",
    "\n",
    "    phi = np.arange(0, np.pi+0.01, 0.01)\n",
    "    theta = -np.pi/2   \n",
    "\n",
    "    r, Q = models.MP_Lin2010(phi, theta,2, 0.01, 0, 0)\n",
    "    x = (r+Q)*np.cos(theta)\n",
    "    y = (r+Q)*np.sin(theta)*np.cos(phi)\n",
    "    z = (r+Q)*np.sin(theta)*np.sin(phi)\n",
    "    axarr[2].plot(y, z, color='k', ls='dashed')\n",
    "    \n",
    "  \n",
    "    phi = np.arange(0, np.pi+0.01, 0.01)\n",
    "    theta = np.pi/2  \n",
    "    \n",
    "    \n",
    "    r, Q = models.MP_Lin2010(phi, theta,2, 0.01, 0, 0)\n",
    "    x = (r+Q)*np.cos(theta)\n",
    "    y = (r+Q)*np.sin(theta)*np.cos(phi)\n",
    "    z = (r+Q)*np.sin(theta)*np.sin(phi)\n",
    "    axarr[2].plot(y, z, color='k', ls='dashed')\n",
    "    \n",
    "    for ax in axarr:\n",
    "        ax.set_xlim(-20, 20)\n",
    "        ax.set_ylim(-20, 20)\n",
    "    axarr[0].set_xlabel('X (Re)')\n",
    "    axarr[0].set_ylabel('Y (Re)')\n",
    "    \n",
    "    axarr[1].set_xlabel('X (Re)')\n",
    "    axarr[1].set_ylabel('Z (Re)')\n",
    "    \n",
    "    axarr[2].set_xlabel('Y (Re)')\n",
    "    axarr[2].set_ylabel('Z (Re)')\n",
    "    return fig, axarr"
   ]
  },
  {
   "cell_type": "code",
   "execution_count": null,
   "metadata": {
    "ExecuteTime": {
     "end_time": "2019-08-26T10:34:40.351793Z",
     "start_time": "2019-08-26T10:34:40.326010Z"
    }
   },
   "outputs": [],
   "source": [
    "dataset_for_regression = pd.read_csv('dataset_for_regression.csv', index_col=0)"
   ]
  },
  {
   "cell_type": "markdown",
   "metadata": {},
   "source": [
    "Each line of the dataset here corresponds to a given crossing, its position in both GSE coordinate, $X, Y, Z$, and spherical coordinates, $R, \\theta, \\phi$, and the associated magnetic field $B_{z}$, Alfven Mach number $M_{a}$ and dynamic pressure $P_{dyn}$"
   ]
  },
  {
   "cell_type": "code",
   "execution_count": null,
   "metadata": {
    "ExecuteTime": {
     "end_time": "2019-08-26T10:34:41.447152Z",
     "start_time": "2019-08-26T10:34:41.436093Z"
    }
   },
   "outputs": [],
   "source": [
    "dataset_for_regression.head()"
   ]
  },
  {
   "cell_type": "code",
   "execution_count": null,
   "metadata": {
    "ExecuteTime": {
     "end_time": "2019-08-26T10:34:43.986553Z",
     "start_time": "2019-08-26T10:34:43.276306Z"
    },
    "code_folding": [
     0
    ]
   },
   "outputs": [],
   "source": [
    "#Current coverage of the MP by our dataset\n",
    "\n",
    "fig, axarr = plot_MP_model()\n",
    "\n",
    "axarr[0].scatter(dataset_for_regression.R*np.cos(dataset_for_regression.theta),\n",
    "                 dataset_for_regression.R*np.sin(dataset_for_regression.theta)*np.cos(dataset_for_regression.phi), s=1)\n",
    "\n",
    "axarr[1].scatter(dataset_for_regression.R*np.cos(dataset_for_regression.theta),\n",
    "                 dataset_for_regression.R*np.sin(dataset_for_regression.theta)*np.sin(dataset_for_regression.phi), s=1)\n",
    "\n",
    "axarr[2].scatter(dataset_for_regression.R*np.sin(dataset_for_regression.theta)*np.cos(dataset_for_regression.phi),\n",
    "                 dataset_for_regression.R*np.sin(dataset_for_regression.theta)*np.sin(dataset_for_regression.phi), s=1)\n"
   ]
  },
  {
   "cell_type": "markdown",
   "metadata": {
    "ExecuteTime": {
     "end_time": "2019-08-22T08:46:30.988112Z",
     "start_time": "2019-08-22T08:46:30.985935Z"
    }
   },
   "source": [
    "The objective here is to estimate the Radius R of the bow shock as a function of the two other coordinates $\\theta$ and $\\phi$ and the eventual solar wind conditions:\n",
    "\n",
    "$R = f(\\theta, \\phi, B_{z}, M_{a}, P_{dyn})$\n",
    "\n",
    "The dataset will then consist of these parameter while $R$ will be the value to estimate\n",
    "\n",
    "__Fit and evaluate different models on our THEMIS B labelled dataset and look at how the different algorithms deal with the regression of the MP position__\n",
    "\n",
    "At first, you can eventually try a first fit independent from the solar wind conditions"
   ]
  },
  {
   "cell_type": "code",
   "execution_count": null,
   "metadata": {
    "ExecuteTime": {
     "end_time": "2019-08-26T10:34:45.443720Z",
     "start_time": "2019-08-26T10:34:45.440602Z"
    }
   },
   "outputs": [],
   "source": [
    "X = dataset_for_regression[['theta', 'phi']]"
   ]
  },
  {
   "cell_type": "code",
   "execution_count": null,
   "metadata": {
    "ExecuteTime": {
     "end_time": "2019-08-26T10:34:46.093847Z",
     "start_time": "2019-08-26T10:34:46.091778Z"
    }
   },
   "outputs": [],
   "source": [
    "Radius = dataset_for_regression.R"
   ]
  },
  {
   "cell_type": "markdown",
   "metadata": {},
   "source": [
    "To enhance our dataset, we can eventually assume the magnetopause is a couple of symmetries:\n",
    "$R(X, -Y, Z) = R(X, Y, -Z) = R(X, Y, Z)  $\n",
    "\n",
    "This is true as long as we do not take into consideration the eventual seasonal influence on the magnetopause location, which will be the case here.\n"
   ]
  },
  {
   "cell_type": "code",
   "execution_count": null,
   "metadata": {
    "ExecuteTime": {
     "end_time": "2019-08-26T10:34:47.482808Z",
     "start_time": "2019-08-26T10:34:47.475795Z"
    }
   },
   "outputs": [],
   "source": [
    "X_sym = X.copy()\n",
    "X_sym.phi *=-1\n",
    "X_sym.phi += np.pi\n",
    "\n",
    "X_sym2 = pd.concat([X, X_sym])\n",
    "X_sym2.phi*= -1\n",
    "X_sym2.phi += 2*np.pi"
   ]
  },
  {
   "cell_type": "markdown",
   "metadata": {},
   "source": [
    "Now let's get into serious stuffs"
   ]
  },
  {
   "cell_type": "code",
   "execution_count": null,
   "metadata": {
    "ExecuteTime": {
     "end_time": "2019-08-26T10:34:49.165469Z",
     "start_time": "2019-08-26T10:34:48.715742Z"
    }
   },
   "outputs": [],
   "source": [
    "X_train, X_test, y_train, y_test = train_test_split(pd.concat([X, X_sym, X_sym2]), pd.concat([Radius, Radius, Radius, Radius]))\n",
    "\n",
    "model = GradientBoostingRegressor(verbose=1, learning_rate=0.05, min_samples_split=10)\n",
    "model.fit(X_train, y_train)"
   ]
  },
  {
   "cell_type": "code",
   "execution_count": null,
   "metadata": {
    "ExecuteTime": {
     "end_time": "2019-08-26T10:34:50.477008Z",
     "start_time": "2019-08-26T10:34:49.991953Z"
    },
    "code_folding": [
     0
    ]
   },
   "outputs": [],
   "source": [
    "#projection plot\n",
    "fig, axarr = plot_MP_model()\n",
    "\n",
    "\n",
    "\n",
    "theta = np.arange(0, 2*np.pi/3+0.01, 0.01)\n",
    "phi = np.zeros(len(theta))\n",
    "\n",
    "r = model.predict(pd.DataFrame(np.concatenate((theta, phi)).reshape(2, len(theta))).transpose())\n",
    "r = np.around(r, 1)\n",
    "x = r*np.cos(theta)\n",
    "y = r*np.sin(theta)*np.cos(phi)\n",
    "z = r*np.sin(theta)*np.sin(phi)\n",
    "axarr[0].plot(x, y, color='k')\n",
    "\n",
    "\n",
    "theta = np.arange(0, 2*np.pi/3+0.01, 0.01)\n",
    "phi = np.pi*np.ones(len(theta))\n",
    "\n",
    "r = model.predict(pd.DataFrame(np.concatenate((theta, phi)).reshape(2, len(theta))).transpose())\n",
    "r = np.around(r, 1)\n",
    "x = r*np.cos(theta)\n",
    "y = r*np.sin(theta)*np.cos(phi)\n",
    "z = r*np.sin(theta)*np.sin(phi)\n",
    "axarr[0].plot(x, y, color='k')\n",
    "\n",
    "\n",
    "\n",
    "theta = np.arange(0, 2*np.pi/3+0.01, 0.01)\n",
    "phi = np.pi*np.ones(len(theta))*0.5\n",
    "\n",
    "\n",
    "r = model.predict(pd.DataFrame(np.concatenate((theta, phi)).reshape(2, len(theta))).transpose())\n",
    "r = np.around(r, 1)\n",
    "x = r*np.cos(theta)\n",
    "y = r*np.sin(theta)*np.cos(phi)\n",
    "z = r*np.sin(theta)*np.sin(phi)\n",
    "axarr[1].plot(x, z, color='k')\n",
    "\n",
    "\n",
    "theta = np.arange(0, 2*np.pi/3+0.01, 0.01)\n",
    "phi = -np.pi*np.ones(len(theta))*0.5\n",
    "\n",
    "r = model.predict(pd.DataFrame(np.concatenate((theta, phi)).reshape(2, len(theta))).transpose())\n",
    "r = np.around(r, 1)\n",
    "x = r*np.cos(theta)\n",
    "y = r*np.sin(theta)*np.cos(phi)\n",
    "z = r*np.sin(theta)*np.sin(phi)\n",
    "axarr[1].plot(x, z, color='k')\n",
    "\n",
    "\n",
    "\n",
    "\n",
    "\n",
    "phi = np.arange(0, 2*np.pi+0.01, 0.01)\n",
    "theta = np.pi*np.ones(len(phi))*0.5 \n",
    "\n",
    "\n",
    "r = model.predict(pd.DataFrame(np.concatenate((theta, phi)).reshape(2, len(phi))).transpose())\n",
    "r = np.around(r, 1)\n",
    "x = r*np.cos(theta)\n",
    "y = r*np.sin(theta)*np.cos(phi)\n",
    "z = r*np.sin(theta)*np.sin(phi)\n",
    "axarr[2].plot(y, z, color='k')\n",
    "\n"
   ]
  },
  {
   "cell_type": "code",
   "execution_count": null,
   "metadata": {},
   "outputs": [],
   "source": []
  }
 ],
 "metadata": {
  "kernelspec": {
   "display_name": "Python 3",
   "language": "python",
   "name": "python3"
  },
  "language_info": {
   "codemirror_mode": {
    "name": "ipython",
    "version": 3
   },
   "file_extension": ".py",
   "mimetype": "text/x-python",
   "name": "python",
   "nbconvert_exporter": "python",
   "pygments_lexer": "ipython3",
   "version": "3.7.3"
  },
  "toc": {
   "base_numbering": 1,
   "nav_menu": {},
   "number_sections": true,
   "sideBar": true,
   "skip_h1_title": false,
   "title_cell": "Table of Contents",
   "title_sidebar": "Contents",
   "toc_cell": false,
   "toc_position": {},
   "toc_section_display": true,
   "toc_window_display": false
  },
  "varInspector": {
   "cols": {
    "lenName": 16,
    "lenType": 16,
    "lenVar": 40
   },
   "kernels_config": {
    "python": {
     "delete_cmd_postfix": "",
     "delete_cmd_prefix": "del ",
     "library": "var_list.py",
     "varRefreshCmd": "print(var_dic_list())"
    },
    "r": {
     "delete_cmd_postfix": ") ",
     "delete_cmd_prefix": "rm(",
     "library": "var_list.r",
     "varRefreshCmd": "cat(var_dic_list()) "
    }
   },
   "types_to_exclude": [
    "module",
    "function",
    "builtin_function_or_method",
    "instance",
    "_Feature"
   ],
   "window_display": false
  }
 },
 "nbformat": 4,
 "nbformat_minor": 2
}
